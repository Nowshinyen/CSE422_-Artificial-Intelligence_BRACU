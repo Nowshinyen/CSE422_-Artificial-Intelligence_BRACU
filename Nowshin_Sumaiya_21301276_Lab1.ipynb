{
  "nbformat": 4,
  "nbformat_minor": 0,
  "metadata": {
    "colab": {
      "provenance": []
    },
    "kernelspec": {
      "name": "python3",
      "display_name": "Python 3"
    },
    "language_info": {
      "name": "python"
    }
  },
  "cells": [
    {
      "cell_type": "code",
      "source": [
        "#in this code we will consider explored = 1,visited and didnot explored = 0, unvisited = -1\n",
        "import heapq\n",
        "import math\n",
        "def function_1():\n",
        "  temp = open(\"input_files.txt\", \"r\")\n",
        "  adj_lst = {}\n",
        "  h_val = {}\n",
        "  for i in temp.readlines():\n",
        "    i = i.split()\n",
        "    h_val[i[0]] = int(i[1])\n",
        "    if i[0] not in adj_lst:\n",
        "      adj_lst[i[0]] = []\n",
        "    for j in range(2, len(i), 2):\n",
        "      adj_lst[i[0]].append((i[j], int(i[j+1])))\n",
        "\n",
        "  temp.close()\n",
        "  return adj_lst, h_val\n",
        "#----------------\n",
        "def a_star_algo(adj_lst, h_val, s_node, e_node) :\n",
        "  save_dictionary = {}\n",
        "  store = []\n",
        "  for k in adj_lst.keys():\n",
        "    save_dictionary[k] = -1\n",
        "  heapq.heappush(store, (0+h_val[s_node], s_node, [s_node], 0))\n",
        "  save_dictionary[s_node] = 0\n",
        "\n",
        "  while len(store) >0 :\n",
        "    flag = heapq.heappop(store)\n",
        "    for x, y in adj_lst[flag[1]]:\n",
        "      if save_dictionary[x] != 1:\n",
        "        heapq.heappush(store, ((flag[3]+y)+h_val[x], x, flag[2]+[x], (flag[3]+y)))\n",
        "        save_dictionary[x] = 0\n",
        "\n",
        "    save_dictionary[flag[1]] = 1\n",
        "    if flag[1] == e_node:\n",
        "      return flag[2], flag[3]\n",
        "\n",
        "  return [], -1\n",
        "#----------------------\n",
        "\n",
        "\n",
        "if __name__ ==  \"__main__\" :\n",
        "  adj_lst, h_val = function_1()\n",
        "\n",
        "  s_node = input(\"enter your start node: \")\n",
        "  e_node = input(\"enter your destination node: \")\n",
        "\n",
        "  route, final_cost = a_star_algo (adj_lst, h_val, s_node, e_node)\n",
        "  if final_cost != -1:\n",
        "    print('finally the route is:', route[0], end = \"\")\n",
        "    for z in route[1:]:\n",
        "      print(\" ->\", z, end = \"\")\n",
        "\n",
        "    print()\n",
        "    print(\"Total distance:\", final_cost, \"km\")\n",
        "\n",
        "  if final_cost == -1:\n",
        "    print(\"NO PATH FOUND\")\n"
      ],
      "metadata": {
        "colab": {
          "base_uri": "https://localhost:8080/"
        },
        "id": "uNsm9s8wDquj",
        "outputId": "fc3e2152-5341-43af-9db8-7f3640a92691"
      },
      "execution_count": null,
      "outputs": [
        {
          "output_type": "stream",
          "name": "stdout",
          "text": [
            "enter your start node: Arad\n",
            "enter your destination node: Bucharest\n",
            "finally the route is: Arad -> Sibiu -> RimnicuVilcea -> Pitesti -> Bucharest\n",
            "Total distance: 418 km\n"
          ]
        }
      ]
    }
  ]
}
{
  "nbformat": 4,
  "nbformat_minor": 0,
  "metadata": {
    "colab": {
      "provenance": []
    },
    "kernelspec": {
      "name": "python3",
      "display_name": "Python 3"
    },
    "language_info": {
      "name": "python"
    }
  },
  "cells": [
    {
      "cell_type": "code",
      "execution_count": null,
      "metadata": {
        "colab": {
          "base_uri": "https://localhost:8080/"
        },
        "id": "hW9sym2Eoi91",
        "outputId": "cd9efe0c-1c2e-4877-eb44-234f2584f4e3"
      },
      "outputs": [
        {
          "output_type": "stream",
          "name": "stdout",
          "text": [
            "Please enter your student id: 25485465\n",
            "minimum point 5\n",
            "maximum point 84\n",
            "8 random points between the min & max point limits: [39, 70, 73, 5, 73, 15, 12, 10]\n",
            "Total points to win the game: 56\n",
            "point if we apply alpha-beta pruning = 70\n",
            "The winner is Optimus Prime !!!!\n"
          ]
        }
      ],
      "source": [
        "import random\n",
        "import math\n",
        "\n",
        "file_1 = open(\"input_file_1.txt\", 'r')\n",
        "print(\"Please enter your student id: \", end=\"\")\n",
        "id = file_1.readline()\n",
        "id = id.replace('0', \"8\")\n",
        "print(id)\n",
        "file_1.close()\n",
        "lowest_point = int(id[5 - 1])\n",
        "win = int(id[-1:-3:-1])\n",
        "highest_point = math.ceil(win *1.5)\n",
        "print(\"minimum point\",lowest_point)\n",
        "print(\"maximum point\",highest_point)\n",
        "empty_lst = []\n",
        "\n",
        "def max_function(tree,lvl, idx, alpha, beta) :\n",
        "    if lvl == 3:\n",
        "        return tree[idx]\n",
        "    x_prime = None\n",
        "    store = None\n",
        "    x_prime = min_function(tree,lvl+1, idx*2,alpha,beta)\n",
        "\n",
        "    if store == None or x_prime > store:\n",
        "        store = x_prime\n",
        "\n",
        "    elif x_prime >= beta:\n",
        "        return store\n",
        "    elif x_prime > alpha:\n",
        "        alpha = x_prime\n",
        "#---------------------------------------------------\n",
        "    x_prime = min_function(tree,lvl + 1, (idx * 2) + 1, alpha, beta)\n",
        "    if store == None or x_prime > store:\n",
        "        store = x_prime\n",
        "\n",
        "    elif x_prime >= beta :\n",
        "        return store\n",
        "    elif x_prime > alpha:\n",
        "        alpha = x_prime\n",
        "    return store\n",
        "\n",
        "def min_function(tree,lvl, idx, alpha, beta):\n",
        "    if lvl == 3:\n",
        "        return tree[idx]\n",
        "    x_prime = None\n",
        "    store = None\n",
        "#---------------------------------------------------\n",
        "    x_prime = max_function(tree, lvl + 1, idx * 2, alpha, beta)\n",
        "\n",
        "    if store == None or x_prime < store:\n",
        "        store = x_prime\n",
        "\n",
        "    elif x_prime <= alpha:\n",
        "        return store\n",
        "    elif x_prime < beta:\n",
        "        beta = x_prime\n",
        "\n",
        "    x_prime = max_function(tree, lvl + 1, (idx * 2) + 1, alpha, beta)\n",
        "\n",
        "    if store == None or x_prime < store:\n",
        "        store = x_prime\n",
        "\n",
        "    elif x_prime <= alpha:\n",
        "        return store\n",
        "    elif x_prime < beta:\n",
        "        beta = x_prime\n",
        "\n",
        "    return store\n",
        "#---------------------------------------------------\n",
        "def AlphaBeta_pruning(tree):\n",
        "    return max_function(tree, 0, 1, -math.inf, math.inf)\n",
        "temp_tree = [None, 'Max1', 'Min1', 'Min2', 'Max3', 'Max4', 'Max5', 'Max6']\n",
        "\n",
        "\n",
        "for idx in range(8):\n",
        "    empty_lst.append(random.randint(lowest_point, highest_point))\n",
        "sum = temp_tree +empty_lst\n",
        "optimus_point =  AlphaBeta_pruning(sum)\n",
        "\n",
        "\n",
        "print(\"8 random points between the min & max point limits:\",empty_lst)\n",
        "print(\"Total points to win the game:\", win)\n",
        "print(\"point if we apply alpha-beta pruning =\", optimus_point)\n",
        "if optimus_point >= win:\n",
        "    print(\"The winner is Optimus Prime !!!!\")\n",
        "if optimus_point < win :\n",
        "    print(\"The Winner is Megatron !!!!\")"
      ]
    }
  ]
}